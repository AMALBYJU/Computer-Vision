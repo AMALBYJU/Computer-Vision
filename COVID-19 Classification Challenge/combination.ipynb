{
 "cells": [
  {
   "cell_type": "markdown",
   "metadata": {},
   "source": [
    "# NOTE\n",
    "This file should be executed only after both .h5 files - trained_densenet_model.h5 and trained_inception_model.h5 are created.\n",
    "I would recommend running this file after evaluating the performance of the individual models.\n",
    "\n",
    "We have seen the performance of the individual models by running inception_run.py and densenet_run.py separately. If you want to\n",
    "see a screenshot, navigate to images/densenet_perf.png or images/inception.png.\n",
    "\n",
    "By using ensemble method - weighted averaging, we can produce a combined model that may show better performance compared to the \n",
    "individual models.\n",
    "\n",
    "To start, let us import the libraries:"
   ]
  },
  {
   "cell_type": "code",
   "execution_count": null,
   "metadata": {},
   "outputs": [],
   "source": [
    "import keras\n",
    "import numpy as np\n",
    "from keras.utils import to_categorical\n",
    "from sklearn.metrics import classification_report, confusion_matrix\n",
    "from keras.models import load_model\n",
    "from sklearn.model_selection import train_test_split"
   ]
  },
  {
   "cell_type": "code",
   "execution_count": null,
   "metadata": {},
   "outputs": [],
   "source": [
    "x_test = np.load(\"testx.npy\")\n",
    "y_test = np.load(\"testy.npy\")"
   ]
  },
  {
   "cell_type": "code",
   "execution_count": null,
   "metadata": {},
   "outputs": [],
   "source": [
    "num_classes = 3\n",
    "\n",
    "x_test = x_test.reshape(-1, 512, 512, 3)\n",
    "x_test = x_test.astype('float32')\n",
    "x_test = x_test / 255.\n",
    "\n",
    "# Converted to one-hot encoding\n",
    "y_test = to_categorical(y_test, num_classes)"
   ]
  },
  {
   "cell_type": "markdown",
   "metadata": {},
   "source": [
    "We load each model and store it in an array called members."
   ]
  },
  {
   "cell_type": "code",
   "execution_count": null,
   "metadata": {},
   "outputs": [],
   "source": [
    "members = [load_model(\"trained_densenet_model.h5\"), load_model(\"trained_inception_model.h5\")]"
   ]
  },
  {
   "cell_type": "markdown",
   "metadata": {},
   "source": [
    "# TESTING"
   ]
  },
  {
   "cell_type": "markdown",
   "metadata": {},
   "source": [
    "Each model in members makes predictions on the input data - x_test.\n",
    "Then their predictions are stored in predictions array.\n",
    "predictions[0] -> Predictions on x_test by densenet\n",
    "predictions[1] -> Predictions on x_test by inceptionV3"
   ]
  },
  {
   "cell_type": "code",
   "execution_count": null,
   "metadata": {},
   "outputs": [],
   "source": [
    "predictions = [model.predict(x_test) for model in members]\n",
    "predictions = np.array(predictions)"
   ]
  },
  {
   "cell_type": "markdown",
   "metadata": {},
   "source": [
    "Now, since inceptionV3 has shown better performance as compared to densenet, we give higher weightage to predictions made\n",
    "by inceptionV3."
   ]
  },
  {
   "cell_type": "code",
   "execution_count": null,
   "metadata": {},
   "outputs": [],
   "source": [
    "predictions[0] = predictions[0] * 0.3\n",
    "predictions[1] = predictions[1] * 0.7"
   ]
  },
  {
   "cell_type": "markdown",
   "metadata": {},
   "source": [
    "Summing the predictions"
   ]
  },
  {
   "cell_type": "code",
   "execution_count": null,
   "metadata": {},
   "outputs": [],
   "source": [
    "summed = np.sum(predictions, axis=0)"
   ]
  },
  {
   "cell_type": "markdown",
   "metadata": {},
   "source": [
    "Converted predictions and actual outputs to integer from one-hot representation"
   ]
  },
  {
   "cell_type": "code",
   "execution_count": null,
   "metadata": {},
   "outputs": [],
   "source": [
    "predicted_classes = np.argmax(np.round(summed), axis=1)\n",
    "y_actual_classes = np.argmax(np.round(y_test), axis=1)  # Converted one-hot to integer"
   ]
  },
  {
   "cell_type": "markdown",
   "metadata": {},
   "source": [
    "Prints number of correct and incorrect predictions, respectively."
   ]
  },
  {
   "cell_type": "code",
   "execution_count": null,
   "metadata": {},
   "outputs": [],
   "source": [
    "correct = np.where(predicted_classes == y_actual_classes)[0]\n",
    "print(\"Found \" + str(len(correct)) + \" correct labels\")\n",
    "\n",
    "incorrect = np.where(predicted_classes != y_actual_classes)[0]\n",
    "print(\"Found \" + str(len(incorrect)) + \" incorrect labels\")"
   ]
  },
  {
   "cell_type": "markdown",
   "metadata": {},
   "source": [
    "Prints confusion matrix and classification report."
   ]
  },
  {
   "cell_type": "code",
   "execution_count": null,
   "metadata": {},
   "outputs": [],
   "source": [
    "print(\"CONFUSION MATRIX\")\n",
    "print(confusion_matrix(y_true=y_actual_classes, y_pred=predicted_classes))\n",
    "\n",
    "print(\"CLASSIFICATION REPORT\")\n",
    "target_names = [\"COVID-19\", \"Normal\", \"Viral Pneumonia\"]\n",
    "print(classification_report(y_actual_classes, predicted_classes, target_names=target_names, digits = 5))"
   ]
  }
 ],
 "metadata": {
  "kernelspec": {
   "display_name": "Python 3",
   "language": "python",
   "name": "python3"
  },
  "language_info": {
   "codemirror_mode": {
    "name": "ipython",
    "version": 3
   },
   "file_extension": ".py",
   "mimetype": "text/x-python",
   "name": "python",
   "nbconvert_exporter": "python",
   "pygments_lexer": "ipython3",
   "version": "3.7.4"
  }
 },
 "nbformat": 4,
 "nbformat_minor": 2
}
